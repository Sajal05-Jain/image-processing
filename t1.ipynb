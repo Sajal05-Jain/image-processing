{
 "cells": [
  {
   "cell_type": "code",
   "execution_count": 1,
   "id": "9eb2442f",
   "metadata": {},
   "outputs": [],
   "source": [
    "import cv2  # Not actually necessary if you just want to create an image.\n",
    "import numpy as np\n",
    "pic= np.zeros((900,900,3))"
   ]
  },
  {
   "cell_type": "code",
   "execution_count": 2,
   "id": "e70cdb13",
   "metadata": {},
   "outputs": [
    {
     "data": {
      "text/plain": [
       "-1"
      ]
     },
     "execution_count": 2,
     "metadata": {},
     "output_type": "execute_result"
    }
   ],
   "source": [
    "import cv2\n",
    "import numpy as np\n",
    "\n",
    "image = np.ones((300, 300, 3), np.uint8) * 255\n",
    "\n",
    "pt1 = (150, 100)\n",
    "pt2 = (100, 200)\n",
    "pt3 = (200, 200)\n",
    "\n",
    "cv2.circle(image, pt1, 2, (0,0,255), -1)\n",
    "cv2.circle(image, pt2, 2, (0,0,255), -1)\n",
    "cv2.circle(image, pt3, 2, (0,0,255), -1)\n",
    "\n",
    "triangle_cnt = np.array( [pt1, pt2, pt3] )\n",
    "\n",
    "cv2.drawContours(image, [triangle_cnt], 0, (0,255,0), -1)\n",
    "\n",
    "cv2.imshow(\"image\", image)\n",
    "cv2.waitKey()"
   ]
  },
  {
   "cell_type": "code",
   "execution_count": 3,
   "id": "3a35bbeb",
   "metadata": {},
   "outputs": [
    {
     "data": {
      "text/plain": [
       "(300, 300, 3)"
      ]
     },
     "execution_count": 3,
     "metadata": {},
     "output_type": "execute_result"
    }
   ],
   "source": [
    "image.shape"
   ]
  },
  {
   "cell_type": "code",
   "execution_count": 4,
   "id": "cbfaa61e",
   "metadata": {},
   "outputs": [
    {
     "data": {
      "text/plain": [
       "-1"
      ]
     },
     "execution_count": 4,
     "metadata": {},
     "output_type": "execute_result"
    }
   ],
   "source": [
    "image[200:280,100:200]=[0,0,250]\n",
    "cv2.imshow(\"image\", image)\n",
    "cv2.waitKey()"
   ]
  },
  {
   "cell_type": "code",
   "execution_count": 5,
   "id": "e3ba9301",
   "metadata": {},
   "outputs": [
    {
     "data": {
      "text/plain": [
       "-1"
      ]
     },
     "execution_count": 5,
     "metadata": {},
     "output_type": "execute_result"
    }
   ],
   "source": [
    "image[240:260,150:190]=[50,200,250]\n",
    "cv2.imshow(\"image\", image)\n",
    "cv2.waitKey()"
   ]
  },
  {
   "cell_type": "code",
   "execution_count": 6,
   "id": "02954d2a",
   "metadata": {},
   "outputs": [
    {
     "data": {
      "text/plain": [
       "-1"
      ]
     },
     "execution_count": 6,
     "metadata": {},
     "output_type": "execute_result"
    }
   ],
   "source": [
    "image[230:280,110:130]=[200,50,100]\n",
    "cv2.imshow(\"image\", image)\n",
    "cv2.waitKey()"
   ]
  }
 ],
 "metadata": {
  "kernelspec": {
   "display_name": "Python 3",
   "language": "python",
   "name": "python3"
  },
  "language_info": {
   "codemirror_mode": {
    "name": "ipython",
    "version": 3
   },
   "file_extension": ".py",
   "mimetype": "text/x-python",
   "name": "python",
   "nbconvert_exporter": "python",
   "pygments_lexer": "ipython3",
   "version": "3.8.8"
  }
 },
 "nbformat": 4,
 "nbformat_minor": 5
}
