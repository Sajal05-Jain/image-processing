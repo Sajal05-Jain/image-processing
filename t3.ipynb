{
 "cells": [
  {
   "cell_type": "code",
   "execution_count": 1,
   "id": "5530fe11",
   "metadata": {},
   "outputs": [],
   "source": [
    "import cv2"
   ]
  },
  {
   "cell_type": "code",
   "execution_count": 2,
   "id": "bccb7a2e",
   "metadata": {},
   "outputs": [],
   "source": [
    "whimg=cv2.imread('whtbg.jpg')"
   ]
  },
  {
   "cell_type": "code",
   "execution_count": 3,
   "id": "41c9d708",
   "metadata": {},
   "outputs": [],
   "source": [
    "cv2.imshow('whtbg.jpg',whimg)\n",
    "cv2.waitKey()\n",
    "cv2.destroyAllWindows()"
   ]
  },
  {
   "cell_type": "code",
   "execution_count": 4,
   "id": "4ae23ffa",
   "metadata": {},
   "outputs": [
    {
     "data": {
      "text/plain": [
       "(159, 221, 3)"
      ]
     },
     "execution_count": 4,
     "metadata": {},
     "output_type": "execute_result"
    }
   ],
   "source": [
    "whimg.shape"
   ]
  },
  {
   "cell_type": "code",
   "execution_count": 5,
   "id": "a63d3659",
   "metadata": {},
   "outputs": [],
   "source": [
    "whimg_left_part=whimg[:,:160]"
   ]
  },
  {
   "cell_type": "code",
   "execution_count": 6,
   "id": "15ae4ffb",
   "metadata": {},
   "outputs": [],
   "source": [
    "cv2.imshow('left-part',whimg_left_part)\n",
    "cv2.waitKey()\n",
    "cv2.destroyAllWindows()"
   ]
  },
  {
   "cell_type": "code",
   "execution_count": 7,
   "id": "3e00420d",
   "metadata": {},
   "outputs": [
    {
     "data": {
      "text/plain": [
       "(159, 160, 3)"
      ]
     },
     "execution_count": 7,
     "metadata": {},
     "output_type": "execute_result"
    }
   ],
   "source": [
    "whimg_left_part.shape"
   ]
  },
  {
   "cell_type": "code",
   "execution_count": 8,
   "id": "3e6614ec",
   "metadata": {},
   "outputs": [],
   "source": [
    "whimg_right_part=whimg[:,:160]"
   ]
  },
  {
   "cell_type": "code",
   "execution_count": 9,
   "id": "e15694af",
   "metadata": {},
   "outputs": [],
   "source": [
    "cv2.imshow('right-part',whimg_right_part)\n",
    "cv2.waitKey()\n",
    "cv2.destroyAllWindows()"
   ]
  },
  {
   "cell_type": "code",
   "execution_count": 10,
   "id": "363d0555",
   "metadata": {},
   "outputs": [
    {
     "data": {
      "text/plain": [
       "(159, 160, 3)"
      ]
     },
     "execution_count": 10,
     "metadata": {},
     "output_type": "execute_result"
    }
   ],
   "source": [
    "whimg_right_part.shape"
   ]
  },
  {
   "cell_type": "code",
   "execution_count": null,
   "id": "11dc63cb",
   "metadata": {},
   "outputs": [],
   "source": []
  },
  {
   "cell_type": "code",
   "execution_count": 11,
   "id": "6978dfb3",
   "metadata": {},
   "outputs": [],
   "source": [
    "rimg=cv2.imread('redbg.jpg')"
   ]
  },
  {
   "cell_type": "code",
   "execution_count": 12,
   "id": "63a34327",
   "metadata": {},
   "outputs": [],
   "source": [
    "cv2.imshow('redbg.jpg',rimg)\n",
    "cv2.waitKey()\n",
    "cv2.destroyAllWindows()"
   ]
  },
  {
   "cell_type": "code",
   "execution_count": 13,
   "id": "f1cab9a1",
   "metadata": {},
   "outputs": [
    {
     "data": {
      "text/plain": [
       "(184, 294, 3)"
      ]
     },
     "execution_count": 13,
     "metadata": {},
     "output_type": "execute_result"
    }
   ],
   "source": [
    "rimg.shape"
   ]
  },
  {
   "cell_type": "code",
   "execution_count": 14,
   "id": "e9dd664b",
   "metadata": {},
   "outputs": [],
   "source": [
    "rimg_left_side=rimg[25:,:160]"
   ]
  },
  {
   "cell_type": "code",
   "execution_count": 15,
   "id": "52fb1401",
   "metadata": {},
   "outputs": [],
   "source": [
    "cv2.imshow('left',rimg_left_side)\n",
    "cv2.waitKey()\n",
    "cv2.destroyAllWindows()"
   ]
  },
  {
   "cell_type": "code",
   "execution_count": 16,
   "id": "ce2f0667",
   "metadata": {},
   "outputs": [
    {
     "data": {
      "text/plain": [
       "(159, 160, 3)"
      ]
     },
     "execution_count": 16,
     "metadata": {},
     "output_type": "execute_result"
    }
   ],
   "source": [
    "rimg_left_side.shape"
   ]
  },
  {
   "cell_type": "code",
   "execution_count": 17,
   "id": "43abb0fe",
   "metadata": {},
   "outputs": [],
   "source": [
    "rimg_right_side=rimg[25:,:160]"
   ]
  },
  {
   "cell_type": "code",
   "execution_count": 18,
   "id": "2a4475d6",
   "metadata": {},
   "outputs": [],
   "source": [
    "cv2.imshow('right',rimg_right_side)\n",
    "cv2.waitKey()\n",
    "cv2.destroyAllWindows()"
   ]
  },
  {
   "cell_type": "code",
   "execution_count": 19,
   "id": "48ddd246",
   "metadata": {},
   "outputs": [
    {
     "data": {
      "text/plain": [
       "(159, 160, 3)"
      ]
     },
     "execution_count": 19,
     "metadata": {},
     "output_type": "execute_result"
    }
   ],
   "source": [
    "rimg_right_side.shape"
   ]
  },
  {
   "cell_type": "code",
   "execution_count": 20,
   "id": "3c8c1791",
   "metadata": {},
   "outputs": [],
   "source": [
    "#final_photo=whimg_left_part+rimg_right_part\n",
    "final_photo_up=cv2.hconcat([whimg_left_part,rimg_left_side])\n",
    "cv2.imshow('Final_up',final_photo_up)\n",
    "cv2.waitKey(0)\n",
    "cv2.destroyAllWindows()"
   ]
  },
  {
   "cell_type": "code",
   "execution_count": 21,
   "id": "bddff3b6",
   "metadata": {},
   "outputs": [
    {
     "data": {
      "text/plain": [
       "(159, 320, 3)"
      ]
     },
     "execution_count": 21,
     "metadata": {},
     "output_type": "execute_result"
    }
   ],
   "source": [
    "final_photo_up.shape"
   ]
  },
  {
   "cell_type": "code",
   "execution_count": 22,
   "id": "81fbd1c8",
   "metadata": {},
   "outputs": [],
   "source": [
    "final_photo_down=cv2.hconcat([rimg_right_side,whimg_right_part])\n",
    "cv2.imshow('Final_down',final_photo_down)\n",
    "cv2.waitKey(0)\n",
    "cv2.destroyAllWindows()"
   ]
  },
  {
   "cell_type": "code",
   "execution_count": 23,
   "id": "04d50333",
   "metadata": {},
   "outputs": [
    {
     "data": {
      "text/plain": [
       "(159, 320, 3)"
      ]
     },
     "execution_count": 23,
     "metadata": {},
     "output_type": "execute_result"
    }
   ],
   "source": [
    "final_photo_down.shape"
   ]
  },
  {
   "cell_type": "code",
   "execution_count": 24,
   "id": "4c0b0041",
   "metadata": {},
   "outputs": [],
   "source": [
    "final_photo=cv2.vconcat([final_photo_up,final_photo_down])\n",
    "cv2.imshow('Final',final_photo)\n",
    "cv2.waitKey(0)\n",
    "cv2.destroyAllWindows()"
   ]
  }
 ],
 "metadata": {
  "kernelspec": {
   "display_name": "Python 3",
   "language": "python",
   "name": "python3"
  },
  "language_info": {
   "codemirror_mode": {
    "name": "ipython",
    "version": 3
   },
   "file_extension": ".py",
   "mimetype": "text/x-python",
   "name": "python",
   "nbconvert_exporter": "python",
   "pygments_lexer": "ipython3",
   "version": "3.8.8"
  }
 },
 "nbformat": 4,
 "nbformat_minor": 5
}
